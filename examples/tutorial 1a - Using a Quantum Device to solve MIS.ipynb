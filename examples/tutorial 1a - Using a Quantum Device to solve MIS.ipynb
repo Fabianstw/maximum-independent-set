{
 "cells": [
  {
   "cell_type": "markdown",
   "metadata": {},
   "source": [
    "# MIS High level"
   ]
  }
 ],
 "metadata": {
  "language_info": {
   "name": "python"
  }
 },
 "nbformat": 4,
 "nbformat_minor": 2
}
