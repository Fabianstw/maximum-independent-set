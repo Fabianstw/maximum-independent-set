{
 "cells": [
  {
   "cell_type": "markdown",
   "metadata": {},
   "source": [
    "# MIS High level"
   ]
  },
  {
   "cell_type": "code",
   "execution_count": null,
   "metadata": {},
   "outputs": [],
   "source": [
    "import networkx as nx\n",
    "\n",
    "# Create a simple triangle graph\n",
    "graph = nx.Graph()\n",
    "graph.add_edges_from([(0, 1), (0, 2)])"
   ]
  },
  {
   "cell_type": "code",
   "execution_count": null,
   "metadata": {},
   "outputs": [],
   "source": [
    "\n",
    "from mis import MISInstance, MISSolver\n",
    "from mis.config import SolverConfig\n",
    "from mis import BackendType "
   ]
  },
  {
   "cell_type": "markdown",
   "metadata": {},
   "source": [
    "Solve using the configuration on the QUTIP backend"
   ]
  },
  {
   "cell_type": "code",
   "execution_count": null,
   "metadata": {},
   "outputs": [],
   "source": [
    "\n",
    "# Create the MIS instance\n",
    "instance = MISInstance(graph)\n",
    "\n",
    "# Define classical solver configuration\n",
    "config = SolverConfig(\n",
    "    method = \"wmis\",  # or \"greedy\"\n",
    "    use_quantum=False,               \n",
    "    backend=BackendType.QUTIP,       \n",
    "    max_iterations=1\n",
    ")\n",
    "\n",
    "# Run the solver\n",
    "solver = MISSolver(instance, config)\n",
    "result = solver.solve()"
   ]
  },
  {
   "cell_type": "code",
   "execution_count": null,
   "metadata": {},
   "outputs": [],
   "source": [
    "# Display results\n",
    "print(\"MIS solution:\", result.bitstrings)\n",
    "print(\"Solution cost:\", result.costs)"
   ]
  },
  {
   "cell_type": "markdown",
   "metadata": {},
   "source": [
    "Solve using Remote QPU backend "
   ]
  },
  {
   "cell_type": "code",
   "execution_count": null,
   "metadata": {},
   "outputs": [],
   "source": [
    "from mis import Connecter \n",
    "# Rename connector \n",
    "# - builds on top of the executor "
   ]
  },
  {
   "cell_type": "code",
   "execution_count": null,
   "metadata": {},
   "outputs": [],
   "source": [
    "conn = Connecter(backend=BackendType.REMOTE_EMUMPS,  # update the backend\n",
    "    project_id=\"project-123\",\n",
    "    username=\"your_username\",\n",
    "    password=\"your_password\")\n",
    "\n",
    "# integrate limitations for using backends with different types of graphs \n",
    "# 15 atoms - QTips\n",
    "# Add warnings about size about upper bounds - state vector emulation (15 atoms)\n",
    "# emu mps ??"
   ]
  },
  {
   "cell_type": "code",
   "execution_count": null,
   "metadata": {},
   "outputs": [],
   "source": [
    "# Point - keep the connection separate than solver configration \n",
    "# Keep the connector as an optional argument somewhere below\n",
    "\n",
    "# Set up the quantum solver config\n",
    "config = SolverConfig(\n",
    "    use_quantum=True,\n",
    "    method = \"wmis\",  # or \"greedy\"\n",
    "    max_iterations=3,\n",
    "    connector = conn\n",
    ")\n",
    "\n",
    "# Solve the problem using quantum solver\n",
    "solver = MISSolver(instance, config)\n",
    "\n",
    "# raise errors here when the register are not compatible \n",
    "result = solver.solve()"
   ]
  },
  {
   "cell_type": "code",
   "execution_count": null,
   "metadata": {},
   "outputs": [],
   "source": [
    "# Print output\n",
    "print(\"Quantum MIS solution:\", result.bitstrings)\n",
    "print(\"Solution cost:\", result.costs)"
   ]
  }
 ],
 "metadata": {
  "kernelspec": {
   "display_name": "Python 3",
   "language": "python",
   "name": "python3"
  },
  "language_info": {
   "codemirror_mode": {
    "name": "ipython",
    "version": 3
   },
   "file_extension": ".py",
   "mimetype": "text/x-python",
   "name": "python",
   "nbconvert_exporter": "python",
   "pygments_lexer": "ipython3",
   "version": "3.10.10"
  }
 },
 "nbformat": 4,
 "nbformat_minor": 2
}
