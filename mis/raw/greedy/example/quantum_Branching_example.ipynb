{
 "cells": [
  {
   "cell_type": "markdown",
   "metadata": {},
   "source": [
    "# k-MonteCarlo resolution example"
   ]
  },
  {
   "cell_type": "code",
   "execution_count": null,
   "metadata": {},
   "outputs": [],
   "source": [
    "import sys\n",
    "import os\n",
    "import random\n",
    "import pickle\n",
    "from networkx import Graph, erdos_renyi_graph\n",
    "\n",
    "\n",
    "sys.path.append(os.path.abspath(os.path.join('..', 'src')))\n",
    "from greedy_subgraph import greedy_subgraph_solver\n",
    "from classic_MIS_solvers import solve_weighted_mis, weighted_greedy_independent_set, weighted_generate_different_mis\n",
    "from quantum_solver import q_solver\n"
   ]
  },
  {
   "cell_type": "markdown",
   "metadata": {},
   "source": [
    "We create an instance to solve:"
   ]
  },
  {
   "cell_type": "code",
   "execution_count": null,
   "metadata": {},
   "outputs": [],
   "source": [
    "seed = 0\n",
    "\n",
    "random.seed(seed)\n",
    "\n",
    "G: Graph = erdos_renyi_graph(100,0.4,seed = seed)\n",
    "for node in G.nodes():\n",
    "    G.nodes[node]['weight'] = random.uniform(0, 1)"
   ]
  },
  {
   "cell_type": "markdown",
   "metadata": {},
   "source": [
    "We select a resolution lattice support, provided as a dictionary where the keys represent the IDs and the values correspond to the coordinates. We also need a rydberg blockade."
   ]
  },
  {
   "cell_type": "code",
   "execution_count": null,
   "metadata": {},
   "outputs": [],
   "source": [
    "rydberg_blockade = 6.6\n",
    "\n",
    "with open('../data/lattices/coordinate_arrays.pickle', 'rb') as handle:\n",
    "    fresnel_id_coords_dic = pickle.load(handle)\n",
    "\n",
    "print(fresnel_id_coords_dic)\n"
   ]
  },
  {
   "cell_type": "markdown",
   "metadata": {},
   "source": [
    "The greedy_subgraph_solver constructor receives:\n",
    "- a general graph to solve, a lattice dict {id: coord}, a rydberg blockade value and a wMIS solving function (here a classical one for simplicity)\n",
    "\n",
    "The wMIS funtion receives as input:\n",
    "- A graph in which each node is labeled with a lattice ID, and each node is associated with a dictionary specifying its weight and position. For additional details, refer to the function `generate_graph_to_solve` in the `greedy_subgraph.py` file.\n",
    "\n",
    "Then, we have a `solve` method, which takes the following parameters:\n",
    "\n",
    "- The size threshold for subgraphs below which classical bruteforce is performed.\n",
    "- The number of subgraphs to solve at each iteration.\n",
    "- The number of MIS to sample for each subgraph"
   ]
  },
  {
   "cell_type": "markdown",
   "metadata": {},
   "source": [
    "## With Classical Solver"
   ]
  },
  {
   "cell_type": "code",
   "execution_count": null,
   "metadata": {},
   "outputs": [],
   "source": [
    "solver = greedy_subgraph_solver(G, fresnel_id_coords_dic, rydberg_blockade, weighted_generate_different_mis)\n",
    "\n",
    "Not_branched = solver.solve(exact_solving_threshold = 10, subgraph_quantity = 1, mis_sample_quantity = 1)\n",
    "\n",
    "Branched = solver.solve(exact_solving_threshold = 10, subgraph_quantity = 2, mis_sample_quantity = 5)\n",
    "\n",
    "print(\"Not branched solution value\", solver.calculate_weight(Not_branched))\n",
    "print(\"Branched solution value\", solver.calculate_weight(Branched))\n",
    "print(\"Greedy\", solver.calculate_weight(weighted_greedy_independent_set(G)))\n",
    "print(\"Optimal\", solver.calculate_weight(solve_weighted_mis(G)))"
   ]
  },
  {
   "cell_type": "markdown",
   "metadata": {},
   "source": [
    "## With Quantum Solver"
   ]
  },
  {
   "cell_type": "code",
   "execution_count": null,
   "metadata": {},
   "outputs": [],
   "source": [
    "solver = greedy_subgraph_solver(G, fresnel_id_coords_dic, rydberg_blockade, q_solver)\n",
    "\n",
    "Not_branched = solver.solve(exact_solving_threshold = 10, subgraph_quantity = 1, mis_sample_quantity = 1)\n",
    "\n",
    "Branched = solver.solve(exact_solving_threshold = 10, subgraph_quantity = 2, mis_sample_quantity = 5)\n",
    "\n",
    "print(\"Not branched solution value\", solver.calculate_weight(Not_branched))\n",
    "print(\"Branched solution value\", solver.calculate_weight(Branched))\n",
    "print(\"Greedy\", solver.calculate_weight(weighted_greedy_independent_set(G)))\n",
    "print(\"Optimal\", solver.calculate_weight(solve_weighted_mis(G))) "
   ]
  }
 ],
 "metadata": {
  "kernelspec": {
   "display_name": "env_greedy_quantum",
   "language": "python",
   "name": "python3"
  },
  "language_info": {
   "codemirror_mode": {
    "name": "ipython",
    "version": 3
   },
   "file_extension": ".py",
   "mimetype": "text/x-python",
   "name": "python",
   "nbconvert_exporter": "python",
   "pygments_lexer": "ipython3",
   "version": "3.10.4"
  }
 },
 "nbformat": 4,
 "nbformat_minor": 2
}
